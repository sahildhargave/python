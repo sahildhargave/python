{
 "cells": [
  {
   "cell_type": "markdown",
   "metadata": {},
   "source": []
  },
  {
   "cell_type": "code",
   "execution_count": 37,
   "metadata": {},
   "outputs": [],
   "source": [
    "import tensorflow as tf\n"
   ]
  },
  {
   "cell_type": "code",
   "execution_count": 38,
   "metadata": {},
   "outputs": [],
   "source": [
    "zero = tf.Variable(0)"
   ]
  },
  {
   "cell_type": "code",
   "execution_count": 39,
   "metadata": {},
   "outputs": [],
   "source": [
    "one= tf.constant(1)"
   ]
  },
  {
   "cell_type": "code",
   "execution_count": 40,
   "metadata": {},
   "outputs": [],
   "source": [
    "new_value = tf.add(zero, one)"
   ]
  },
  {
   "cell_type": "code",
   "execution_count": 41,
   "metadata": {},
   "outputs": [],
   "source": [
    "update=tf.compat.v1.assign(zero, new_value)"
   ]
  },
  {
   "cell_type": "markdown",
   "metadata": {},
   "source": []
  },
  {
   "cell_type": "code",
   "execution_count": 42,
   "metadata": {},
   "outputs": [],
   "source": [
    "#constant cannot be updated\n",
    "#update=tf.compat.v1.assign(one, new_value)"
   ]
  },
  {
   "cell_type": "markdown",
   "metadata": {},
   "source": []
  },
  {
   "cell_type": "code",
   "execution_count": 43,
   "metadata": {},
   "outputs": [],
   "source": [
    "init_op=tf.compat.v1.global_variables_initializer()"
   ]
  },
  {
   "cell_type": "code",
   "execution_count": 44,
   "metadata": {},
   "outputs": [],
   "source": [
    "sess= tf.compat.v1.Session()"
   ]
  },
  {
   "cell_type": "code",
   "execution_count": 46,
   "metadata": {},
   "outputs": [],
   "source": [
    "#import tensorflow as tf\n",
    "#\n",
    "#tf.compat.v1.disable_eager_execution()\n",
    "#\n",
    "#print(tf.__version__)\n",
    "#\n",
    "## Build a dataflow graph.\n",
    "#c = tf.constant([[1.0, 2.0], [3.0, 4.0]])\n",
    "#d = tf.constant([[1.0, 1.0], [0.0, 1.0]])\n",
    "#e = tf.matmul(c, d)\n",
    "#\n",
    "## Construct a `Session` to execute the graph.\n",
    "#sess = tf.compat.v1.Session()\n",
    "#\n",
    "## Execute the graph and store the value that `e` represents in `result`.\n",
    "#result = sess.run(e)\n",
    "#print(result)\n",
    "#print(sess.run(zero))"
   ]
  },
  {
   "cell_type": "code",
   "execution_count": 47,
   "metadata": {},
   "outputs": [
    {
     "name": "stdout",
     "output_type": "stream",
     "text": [
      "Hello\n",
      "Hello\n",
      "Hello\n",
      "Hello\n",
      "Hello\n"
     ]
    }
   ],
   "source": [
    "for _ in range(5):\n",
    "    print(\"Hello\")"
   ]
  },
  {
   "cell_type": "code",
   "execution_count": 52,
   "metadata": {},
   "outputs": [
    {
     "name": "stdout",
     "output_type": "stream",
     "text": [
      "b'Sahil\\xe2\\x9d\\xa4\\xef\\xb8\\x8fKitty'\n"
     ]
    }
   ],
   "source": [
    "hello = tf.constant(\"Sahil\")\n",
    "world=tf.constant(\"❤️Kitty\")\n",
    "\n",
    "helloworldby=tf.add(hello,world)\n",
    "print(sess.run(helloworldby))"
   ]
  },
  {
   "cell_type": "code",
   "execution_count": 56,
   "metadata": {},
   "outputs": [
    {
     "name": "stdout",
     "output_type": "stream",
     "text": [
      "6.0\n"
     ]
    }
   ],
   "source": [
    "a=tf.compat.v1.placeholder(tf.float32)\n",
    "b=a*2\n",
    "result=sess.run(b,feed_dict={a:3})\n",
    "print(result)"
   ]
  },
  {
   "cell_type": "code",
   "execution_count": 58,
   "metadata": {},
   "outputs": [
    {
     "name": "stdout",
     "output_type": "stream",
     "text": [
      "[6. 4. 8.]\n"
     ]
    }
   ],
   "source": [
    "result = sess.run(b,feed_dict={a:[3,2,4]})\n",
    "print(result)"
   ]
  },
  {
   "cell_type": "code",
   "execution_count": 59,
   "metadata": {},
   "outputs": [],
   "source": [
    "sess.close()"
   ]
  },
  {
   "cell_type": "code",
   "execution_count": 61,
   "metadata": {},
   "outputs": [
    {
     "name": "stdout",
     "output_type": "stream",
     "text": [
      "b'Sahil\\xe2\\x9d\\xa4\\xef\\xb8\\x8fKitty'\n"
     ]
    }
   ],
   "source": [
    "with tf.compat.v1.Session() as sess:\n",
    "    result = sess.run(hello+world)\n",
    "    print(result)"
   ]
  },
  {
   "cell_type": "code",
   "execution_count": 63,
   "metadata": {},
   "outputs": [
    {
     "data": {
      "text/plain": [
       "[<tf.Operation 'Const' type=Const>,\n",
       " <tf.Operation 'Const_1' type=Const>,\n",
       " <tf.Operation 'MatMul' type=MatMul>,\n",
       " <tf.Operation 'Variable/Initializer/initial_value' type=Const>,\n",
       " <tf.Operation 'Variable' type=VarHandleOp>,\n",
       " <tf.Operation 'Variable/IsInitialized/VarIsInitializedOp' type=VarIsInitializedOp>,\n",
       " <tf.Operation 'Variable/Assign' type=AssignVariableOp>,\n",
       " <tf.Operation 'Variable/Read/ReadVariableOp' type=ReadVariableOp>,\n",
       " <tf.Operation 'Const_2' type=Const>,\n",
       " <tf.Operation 'Add/ReadVariableOp' type=ReadVariableOp>,\n",
       " <tf.Operation 'Add' type=AddV2>,\n",
       " <tf.Operation 'AssignVariableOp' type=AssignVariableOp>,\n",
       " <tf.Operation 'ReadVariableOp' type=ReadVariableOp>,\n",
       " <tf.Operation 'init' type=NoOp>,\n",
       " <tf.Operation 'Const_3' type=Const>,\n",
       " <tf.Operation 'Const_4' type=Const>,\n",
       " <tf.Operation 'Const_5' type=Const>,\n",
       " <tf.Operation 'Const_6' type=Const>,\n",
       " <tf.Operation 'Const_7' type=Const>,\n",
       " <tf.Operation 'Const_8' type=Const>,\n",
       " <tf.Operation 'Add_1' type=Add>,\n",
       " <tf.Operation 'Const_9' type=Const>,\n",
       " <tf.Operation 'Const_10' type=Const>,\n",
       " <tf.Operation 'Const_11' type=Const>,\n",
       " <tf.Operation 'Const_12' type=Const>,\n",
       " <tf.Operation 'Const_13' type=Const>,\n",
       " <tf.Operation 'Const_14' type=Const>,\n",
       " <tf.Operation 'Const_15' type=Const>,\n",
       " <tf.Operation 'Const_16' type=Const>,\n",
       " <tf.Operation 'Add_2' type=Add>,\n",
       " <tf.Operation 'Placeholder' type=Placeholder>,\n",
       " <tf.Operation 'mul/y' type=Const>,\n",
       " <tf.Operation 'mul' type=Mul>,\n",
       " <tf.Operation 'Placeholder_1' type=Placeholder>,\n",
       " <tf.Operation 'mul_1/y' type=Const>,\n",
       " <tf.Operation 'mul_1' type=Mul>,\n",
       " <tf.Operation 'add_3' type=Add>]"
      ]
     },
     "execution_count": 63,
     "metadata": {},
     "output_type": "execute_result"
    }
   ],
   "source": [
    "import tensorflow as tf\n",
    "graph = tf.compat.v1.get_default_graph()\n",
    "graph.get_operations()\n"
   ]
  },
  {
   "cell_type": "markdown",
   "metadata": {},
   "source": []
  },
  {
   "cell_type": "code",
   "execution_count": null,
   "metadata": {},
   "outputs": [],
   "source": []
  },
  {
   "cell_type": "code",
   "execution_count": null,
   "metadata": {},
   "outputs": [],
   "source": []
  },
  {
   "cell_type": "code",
   "execution_count": null,
   "metadata": {},
   "outputs": [],
   "source": []
  },
  {
   "cell_type": "code",
   "execution_count": null,
   "metadata": {},
   "outputs": [],
   "source": []
  },
  {
   "cell_type": "code",
   "execution_count": null,
   "metadata": {},
   "outputs": [],
   "source": []
  },
  {
   "cell_type": "code",
   "execution_count": null,
   "metadata": {},
   "outputs": [],
   "source": []
  },
  {
   "cell_type": "code",
   "execution_count": null,
   "metadata": {},
   "outputs": [],
   "source": []
  },
  {
   "cell_type": "markdown",
   "metadata": {},
   "source": []
  },
  {
   "cell_type": "markdown",
   "metadata": {},
   "source": []
  },
  {
   "cell_type": "markdown",
   "metadata": {},
   "source": []
  },
  {
   "cell_type": "markdown",
   "metadata": {},
   "source": []
  },
  {
   "cell_type": "markdown",
   "metadata": {},
   "source": []
  },
  {
   "cell_type": "code",
   "execution_count": null,
   "metadata": {},
   "outputs": [],
   "source": []
  },
  {
   "cell_type": "code",
   "execution_count": null,
   "metadata": {},
   "outputs": [],
   "source": []
  },
  {
   "cell_type": "code",
   "execution_count": null,
   "metadata": {},
   "outputs": [],
   "source": []
  },
  {
   "cell_type": "code",
   "execution_count": null,
   "metadata": {},
   "outputs": [],
   "source": []
  },
  {
   "cell_type": "code",
   "execution_count": null,
   "metadata": {},
   "outputs": [],
   "source": []
  }
 ],
 "metadata": {
  "kernelspec": {
   "display_name": "Python 3",
   "language": "python",
   "name": "python3"
  },
  "language_info": {
   "codemirror_mode": {
    "name": "ipython",
    "version": 3
   },
   "file_extension": ".py",
   "mimetype": "text/x-python",
   "name": "python",
   "nbconvert_exporter": "python",
   "pygments_lexer": "ipython3",
   "version": "3.11.4"
  },
  "orig_nbformat": 4
 },
 "nbformat": 4,
 "nbformat_minor": 2
}
